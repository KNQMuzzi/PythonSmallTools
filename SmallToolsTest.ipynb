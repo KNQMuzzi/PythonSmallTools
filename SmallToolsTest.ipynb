{
 "cells": [
  {
   "cell_type": "code",
   "execution_count": 1,
   "metadata": {},
   "outputs": [
    {
     "name": "stdout",
     "output_type": "stream",
     "text": [
      "{\n",
      "    \"01\": \"YMFCM97\",\n",
      "    \"02\": \"VKQ8YN7\",\n",
      "    \"03\": \"6B2QG68\",\n",
      "    \"04\": \"YY7TDX2\",\n",
      "    \"05\": \"MXJPV72\",\n",
      "    \"06\": \"DXJG6X6\",\n",
      "    \"07\": \"4DFQ4B7\",\n",
      "    \"08\": \"TGWKJ83\",\n",
      "    \"09\": \"X46J3C7\",\n",
      "    \"10\": \"QX4XJQ2\",\n",
      "    \"11\": \"5DNKBH8\",\n",
      "    \"12\": \"PY93PM5\",\n",
      "    \"13\": \"B45NFQ8\",\n",
      "    \"14\": \"DMCM3C7\",\n",
      "    \"15\": \"28R9DP6\",\n",
      "    \"16\": \"N5MCBP7\",\n",
      "    \"17\": \"M4KX268\",\n",
      "    \"18\": \"MRHWK78\",\n",
      "    \"19\": \"9JYD2F7\",\n",
      "    \"20\": \"BYR23T8\",\n",
      "    \"21\": \"5K6X9K8\",\n",
      "    \"22\": \"TYFH3Y2\",\n",
      "    \"23\": \"4Y97HJ6\",\n",
      "    \"24\": \"QCMR6V5\",\n",
      "    \"25\": \"K8K9KM5\",\n",
      "    \"26\": \"N5B8KJ5\",\n",
      "    \"27\": \"9P5MBQ4\",\n",
      "    \"28\": \"WTTFBX7\",\n",
      "    \"29\": \"9JDP2W2\",\n",
      "    \"30\": \"6N5X446\"\n",
      "}\n"
     ]
    }
   ],
   "source": [
    "###---(oﾟvﾟ)ノ---###\n",
    "#Author Start\n",
    "# hint Date: 2023-10-15 22:12:06\n",
    "# hint LastEditors: Jupiter.Q.Peng\n",
    "# hint LastEditTime: 2023-10-15 22:12:15\n",
    "# hint Description: Version 1.0\n",
    "# hint FilePath: \\RotatE-SimTWD-Re-Rankd:\\AxMyWorkBench\\PythonProject\\SmallTools\\SmallToolsTest.ipynb\n",
    "# Author End\n",
    "\n",
    "# Path: SmallToolsTest.ipynb\n",
    "import re, json\n",
    "\n",
    "baseSTR = r\"\"\"\n",
    "1.YMFCM9711.5DNKBH821.5K6X9K8\n",
    "2.VKQ8YN712.PY93PM522.TYFH3Y2\n",
    "3.6B2QG6813.B45NFQ823.4Y97HJ6\n",
    "4.YY7TDX214.DMCM3C724.QCMR6V5\n",
    "5.MXJPV7215.28R9DP625.K8K9KM5\n",
    "6.DXJG6X616.N5MCBP726.N5B8KJ5\n",
    "7.4DFQ4B717.M4KX26827.9P5MBQ4\n",
    "8.TGWKJ8318.MRHWK7828.WTTFBX7\n",
    "9.X46J3C719.9JYD2F729.9JDP2W2\n",
    "10.QX4XJQ220.BYR23T830.6N5X446\n",
    "\"\"\"\n",
    "\n",
    "def getSteamValidatorID(baseSTR):\n",
    "    code_dict = {}\n",
    "    pattern = re.compile(r'(\\d*?)\\.(.{7})')\n",
    "    for line in baseSTR.split('\\n'):\n",
    "        if line:\n",
    "            match = pattern.findall(line)\n",
    "            for item in match:\n",
    "                if len(item[0]) == 1:\n",
    "                    key = '0' + item[0]\n",
    "                    code_dict[key] = item[1]\n",
    "                else:\n",
    "                    code_dict[item[0]] = item[1]\n",
    "    code_dict = dict(sorted(code_dict.items(), key = lambda x: int(x[0])))\n",
    "    return code_dict\n",
    "\n",
    "dict = getSteamValidatorID(baseSTR)\n",
    "print(json.dumps(dict, indent=4, sort_keys=True))"
   ]
  }
 ],
 "metadata": {
  "kernelspec": {
   "display_name": "base",
   "language": "python",
   "name": "python3"
  },
  "language_info": {
   "codemirror_mode": {
    "name": "ipython",
    "version": 3
   },
   "file_extension": ".py",
   "mimetype": "text/x-python",
   "name": "python",
   "nbconvert_exporter": "python",
   "pygments_lexer": "ipython3",
   "version": "3.10.9"
  },
  "orig_nbformat": 4
 },
 "nbformat": 4,
 "nbformat_minor": 2
}
