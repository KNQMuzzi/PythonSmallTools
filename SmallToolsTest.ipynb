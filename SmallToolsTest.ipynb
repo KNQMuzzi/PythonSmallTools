{
 "cells": [
  {
   "cell_type": "code",
   "execution_count": null,
   "metadata": {},
   "outputs": [],
   "source": [
    "###---(oﾟvﾟ)ノ---###\n",
    "#Author Start\n",
    "# hint Date: 2023-10-15 22:12:06\n",
    "# hint LastEditors: Jupiter.Q.Peng\n",
    "# hint LastEditTime: 2023-10-15 22:12:15\n",
    "# hint Description: Version 1.0\n",
    "# hint FilePath: \\RotatE-SimTWD-Re-Rankd:\\AxMyWorkBench\\PythonProject\\SmallTools\\SmallToolsTest.ipynb\n",
    "# Author End\n",
    "\n",
    "# Path: SmallToolsTest.ipynb\n",
    "import re, json\n",
    "\n",
    "baseSTR = r\"\"\"\n",
    "1.YMFCM9711.5DNKBH821.5K6X9K8\n",
    "2.VKQ8YN712.PY93PM522.TYFH3Y2\n",
    "3.6B2QG6813.B45NFQ823.4Y97HJ6\n",
    "4.YY7TDX214.DMCM3C724.QCMR6V5\n",
    "5.MXJPV7215.28R9DP625.K8K9KM5\n",
    "6.DXJG6X616.N5MCBP726.N5B8KJ5\n",
    "7.4DFQ4B717.M4KX26827.9P5MBQ4\n",
    "8.TGWKJ8318.MRHWK7828.WTTFBX7\n",
    "9.X46J3C719.9JYD2F729.9JDP2W2\n",
    "10.QX4XJQ220.BYR23T830.6N5X446\n",
    "\"\"\"\n",
    "\n",
    "def getSteamValidatorID(baseSTR):\n",
    "    code_dict = {}\n",
    "    pattern = re.compile(r'(\\d*?)\\.(.{7})')\n",
    "    for line in baseSTR.split('\\n'):\n",
    "        if line:\n",
    "            match = pattern.findall(line)\n",
    "            for item in match:\n",
    "                if len(item[0]) == 1:\n",
    "                    key = '0' + item[0]\n",
    "                    code_dict[key] = item[1]\n",
    "                else:\n",
    "                    code_dict[item[0]] = item[1]\n",
    "    code_dict = dict(sorted(code_dict.items(), key = lambda x: int(x[0])))\n",
    "    return code_dict\n",
    "\n",
    "dict = getSteamValidatorID(baseSTR)\n",
    "print(json.dumps(dict, indent=4, sort_keys=True))"
   ]
  },
  {
   "cell_type": "code",
   "execution_count": 4,
   "metadata": {},
   "outputs": [
    {
     "name": "stdout",
     "output_type": "stream",
     "text": [
      "name: jupiter, age: 0\n",
      "name: jupiter, age: 1\n",
      "name: jupiter, age: 2\n",
      "name: jupiter, age: 3\n",
      "name: jupiter, age: 4\n",
      "name: jupiter, age: 5\n",
      "name: jupiter, age: 6\n",
      "name: jupiter, age: 7\n",
      "name: jupiter, age: 8\n",
      "name: jupiter, age: 9\n"
     ]
    }
   ],
   "source": [
    "class test:\n",
    "    def __init__(self, name, age):\n",
    "        self.name = name\n",
    "        self.age = age\n",
    "\n",
    "    def __str__(self):\n",
    "        return 'name: {}, age: {}'.format(self.name, self.age)\n",
    "\n",
    "\n",
    "for i in range(10):\n",
    "    ii = test('jupiter', i)\n",
    "    print(ii)"
   ]
  },
  {
   "cell_type": "code",
   "execution_count": 3,
   "metadata": {},
   "outputs": [
    {
     "name": "stdout",
     "output_type": "stream",
     "text": [
      "Jiexialaiderenwudidianshilixuelouwaideyinghuadadao\n"
     ]
    }
   ],
   "source": [
    "string_a = 'oadadauhgniyediawuoleuxilihsnaididuwneredialaixeiJ'\n",
    "print(string_a[::-1])\n",
    "\n",
    "string_b = 'Jie xia lai de ren wu di dian shi li xue lou wai de ying hua da dao'"
   ]
  },
  {
   "cell_type": "code",
   "execution_count": 20,
   "metadata": {},
   "outputs": [
    {
     "data": {
      "application/vnd.jupyter.widget-view+json": {
       "model_id": "c28b844d4e8c48b9bdf172729841e5e1",
       "version_major": 2,
       "version_minor": 0
      },
      "text/plain": [
       "Output()"
      ]
     },
     "metadata": {},
     "output_type": "display_data"
    },
    {
     "data": {
      "text/html": [
       "<pre style=\"white-space:pre;overflow-x:auto;line-height:normal;font-family:Menlo,'DejaVu Sans Mono',consolas,'Courier New',monospace\">75 改名完成！\n",
       "</pre>\n"
      ],
      "text/plain": [
       "75 改名完成！\n"
      ]
     },
     "metadata": {},
     "output_type": "display_data"
    },
    {
     "data": {
      "text/html": [
       "<pre style=\"white-space:pre;overflow-x:auto;line-height:normal;font-family:Menlo,'DejaVu Sans Mono',consolas,'Courier New',monospace\"></pre>\n"
      ],
      "text/plain": []
     },
     "metadata": {},
     "output_type": "display_data"
    },
    {
     "data": {
      "text/html": [
       "<pre style=\"white-space:pre;overflow-x:auto;line-height:normal;font-family:Menlo,'DejaVu Sans Mono',consolas,'Courier New',monospace\">\n",
       "</pre>\n"
      ],
      "text/plain": [
       "\n"
      ]
     },
     "metadata": {},
     "output_type": "display_data"
    }
   ],
   "source": [
    "import re, os, random\n",
    "from rich.progress import Progress, TextColumn, BarColumn\n",
    "\n",
    "# 获取路径下的全部文件夹名称\n",
    "def get_all_dir(path:str) -> list:\n",
    "    import os\n",
    "    dirs = os.listdir(path)\n",
    "    return [dir for dir in dirs if os.path.isdir(os.path.join(path, dir))]\n",
    "\n",
    "# 正则匹配\n",
    "def renamer(string:str, patten:str, template:str) -> str:\n",
    "    match = re.match(patten, string)\n",
    "    new_string = re.sub(patten, template, string)\n",
    "    return new_string\n",
    "\n",
    "# 根据文件夹名称，进行匹配并重命名\n",
    "def rename_dir(path, pattern, repl):\n",
    "    with Progress(TextColumn(\"[progress.description]{task.description}\"),\n",
    "                 BarColumn(),\n",
    "                 TextColumn(\"[progress.percentage]{task.percentage:>3.0f}%\")) as progress:\n",
    "\n",
    "        dirs = get_all_dir(path)\n",
    "        batch = progress.add_task(description = \"改名进度\", total = len(dirs))\n",
    "        for dir in dirs:\n",
    "            new_dir = renamer(dir, pattern, repl)\n",
    "            os.rename(os.path.join(path, dir), os.path.join(path, new_dir))\n",
    "            progress.advance(batch, advance=1)\n",
    "        print(f'{len(dirs)} 改名完成！')\n",
    "\n",
    "\n",
    "path = 'E:\\BaiduNetdiskDownload\\暴击少女喵小吉 PS：www.kkaiq.com'\n",
    "patten = r'.*?(NO\\.\\d{2,3})(.*)'\n",
    "repl = r'\\1_\\2'\n",
    "\n",
    "rename_dir(path, patten, repl)\n"
   ]
  }
 ],
 "metadata": {
  "kernelspec": {
   "display_name": "base",
   "language": "python",
   "name": "python3"
  },
  "language_info": {
   "codemirror_mode": {
    "name": "ipython",
    "version": 3
   },
   "file_extension": ".py",
   "mimetype": "text/x-python",
   "name": "python",
   "nbconvert_exporter": "python",
   "pygments_lexer": "ipython3",
   "version": "3.11.7"
  },
  "orig_nbformat": 4
 },
 "nbformat": 4,
 "nbformat_minor": 2
}
