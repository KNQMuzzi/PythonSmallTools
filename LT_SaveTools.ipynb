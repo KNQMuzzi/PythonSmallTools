{
 "cells": [
  {
   "cell_type": "code",
   "execution_count": null,
   "metadata": {},
   "outputs": [],
   "source": [
    "\n",
    "import re, sys\n",
    "import xml.etree.ElementTree as ET\n",
    "\n",
    "tree = ET.parse(r'E:\\@Joy\\@Butter\\@#Liliths Throne\\data\\saves\\AutoSave_乔茜.xml')\n",
    "root = tree.getroot()\n",
    "\n",
    "for element in root.findall('NPC'):\n",
    "    tag = element.tag                  # 访问Element标签\n",
    "    attrib = element.attrib            # 访问Element属性\n",
    "    Name = element.find('character').text   # 访问Element子元素\n",
    "    print(tag, attrib, Name)"
   ]
  }
 ],
 "metadata": {
  "kernelspec": {
   "display_name": "base",
   "language": "python",
   "name": "python3"
  },
  "language_info": {
   "codemirror_mode": {
    "name": "ipython",
    "version": 3
   },
   "file_extension": ".py",
   "mimetype": "text/x-python",
   "name": "python",
   "nbconvert_exporter": "python",
   "pygments_lexer": "ipython3",
   "version": "3.11.7"
  }
 },
 "nbformat": 4,
 "nbformat_minor": 2
}
