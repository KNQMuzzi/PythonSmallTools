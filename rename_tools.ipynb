{
 "cells": [
  {
   "cell_type": "code",
   "execution_count": 5,
   "metadata": {},
   "outputs": [
    {
     "data": {
      "application/vnd.jupyter.widget-view+json": {
       "model_id": "e2fb9af8fdb34a2184bb390b2ce56935",
       "version_major": 2,
       "version_minor": 0
      },
      "text/plain": [
       "Output()"
      ]
     },
     "metadata": {},
     "output_type": "display_data"
    },
    {
     "data": {
      "text/html": [
       "<pre style=\"white-space:pre;overflow-x:auto;line-height:normal;font-family:Menlo,'DejaVu Sans Mono',consolas,'Courier New',monospace\"></pre>\n"
      ],
      "text/plain": []
     },
     "metadata": {},
     "output_type": "display_data"
    },
    {
     "data": {
      "text/html": [
       "<pre style=\"white-space:pre;overflow-x:auto;line-height:normal;font-family:Menlo,'DejaVu Sans Mono',consolas,'Courier New',monospace\">\n",
       "</pre>\n"
      ],
      "text/plain": [
       "\n"
      ]
     },
     "metadata": {},
     "output_type": "display_data"
    },
    {
     "ename": "LiveError",
     "evalue": "Only one live display may be active at once",
     "output_type": "error",
     "traceback": [
      "\u001b[1;31m---------------------------------------------------------------------------\u001b[0m",
      "\u001b[1;31mLiveError\u001b[0m                                 Traceback (most recent call last)",
      "Cell \u001b[1;32mIn[5], line 143\u001b[0m\n\u001b[0;32m    140\u001b[0m path_1 \u001b[39m=\u001b[39m \u001b[39mr\u001b[39m\u001b[39m\"\u001b[39m\u001b[39mE:\u001b[39m\u001b[39m\\\u001b[39m\u001b[39m@S\u001b[39m\u001b[39m\\\u001b[39m\u001b[39m@M\u001b[39m\u001b[39m\"\u001b[39m\n\u001b[0;32m    141\u001b[0m base_path \u001b[39m=\u001b[39m path_1\n\u001b[1;32m--> 143\u001b[0m RT_RenameFiles(base_path, \u001b[39m\"\u001b[39;49m\u001b[39m\"\u001b[39;49m, controller \u001b[39m=\u001b[39;49m \u001b[39m-\u001b[39;49m\u001b[39m1\u001b[39;49m)\n",
      "Cell \u001b[1;32mIn[5], line 53\u001b[0m, in \u001b[0;36mRT_RenameFiles\u001b[1;34m(path, rename_inject, controller, logObject)\u001b[0m\n\u001b[0;32m     50\u001b[0m \u001b[39m# HINT 判断是否是文件夹\u001b[39;00m\n\u001b[0;32m     51\u001b[0m \u001b[39mif\u001b[39;00m os\u001b[39m.\u001b[39mpath\u001b[39m.\u001b[39misdir(file_path_current):\n\u001b[0;32m     52\u001b[0m     \u001b[39m# HINT 如果是文件夹，递归调用，将文件夹的名字作为参数传入\u001b[39;00m\n\u001b[1;32m---> 53\u001b[0m     RT_RenameFiles(file_path_current, filename, controller)\n\u001b[0;32m     54\u001b[0m \u001b[39melse\u001b[39;00m:\n\u001b[0;32m     55\u001b[0m     \u001b[39m# HINT 判断是否是初始的调用，若运行，此时的inject是本级文件夹名字\u001b[39;00m\n\u001b[0;32m     56\u001b[0m     \u001b[39mif\u001b[39;00m rename_inject \u001b[39m!=\u001b[39m \u001b[39m\"\u001b[39m\u001b[39m\"\u001b[39m:\n\u001b[0;32m     57\u001b[0m         \u001b[39m# HINT 新的文件名(基础)\u001b[39;00m\n",
      "Cell \u001b[1;32mIn[5], line 47\u001b[0m, in \u001b[0;36mRT_RenameFiles\u001b[1;34m(path, rename_inject, controller, logObject)\u001b[0m\n\u001b[0;32m     44\u001b[0m \u001b[39melse\u001b[39;00m:\n\u001b[0;32m     45\u001b[0m     \u001b[39m# HINT 读取文件夹下的文件名列表\u001b[39;00m\n\u001b[0;32m     46\u001b[0m     filenameList \u001b[39m=\u001b[39m os\u001b[39m.\u001b[39mlistdir(path)\n\u001b[1;32m---> 47\u001b[0m     \u001b[39mfor\u001b[39;00m filename \u001b[39min\u001b[39;00m track(filenameList):\n\u001b[0;32m     48\u001b[0m         \u001b[39m# HINT 拼接文件路径，是当前的文件名\u001b[39;00m\n\u001b[0;32m     49\u001b[0m         file_path_current \u001b[39m=\u001b[39m os\u001b[39m.\u001b[39mpath\u001b[39m.\u001b[39mjoin(path, filename)\n\u001b[0;32m     50\u001b[0m         \u001b[39m# HINT 判断是否是文件夹\u001b[39;00m\n",
      "File \u001b[1;32mc:\\ProgramData\\anaconda3\\lib\\site-packages\\rich\\progress.py:167\u001b[0m, in \u001b[0;36mtrack\u001b[1;34m(sequence, description, total, auto_refresh, console, transient, get_time, refresh_per_second, style, complete_style, finished_style, pulse_style, update_period, disable, show_speed)\u001b[0m\n\u001b[0;32m    145\u001b[0m columns\u001b[39m.\u001b[39mextend(\n\u001b[0;32m    146\u001b[0m     (\n\u001b[0;32m    147\u001b[0m         BarColumn(\n\u001b[1;32m   (...)\u001b[0m\n\u001b[0;32m    155\u001b[0m     )\n\u001b[0;32m    156\u001b[0m )\n\u001b[0;32m    157\u001b[0m progress \u001b[39m=\u001b[39m Progress(\n\u001b[0;32m    158\u001b[0m     \u001b[39m*\u001b[39mcolumns,\n\u001b[0;32m    159\u001b[0m     auto_refresh\u001b[39m=\u001b[39mauto_refresh,\n\u001b[1;32m   (...)\u001b[0m\n\u001b[0;32m    164\u001b[0m     disable\u001b[39m=\u001b[39mdisable,\n\u001b[0;32m    165\u001b[0m )\n\u001b[1;32m--> 167\u001b[0m \u001b[39mwith\u001b[39;00m progress:\n\u001b[0;32m    168\u001b[0m     \u001b[39myield from\u001b[39;00m progress\u001b[39m.\u001b[39mtrack(\n\u001b[0;32m    169\u001b[0m         sequence, total\u001b[39m=\u001b[39mtotal, description\u001b[39m=\u001b[39mdescription, update_period\u001b[39m=\u001b[39mupdate_period\n\u001b[0;32m    170\u001b[0m     )\n",
      "File \u001b[1;32mc:\\ProgramData\\anaconda3\\lib\\site-packages\\rich\\progress.py:1168\u001b[0m, in \u001b[0;36mProgress.__enter__\u001b[1;34m(self)\u001b[0m\n\u001b[0;32m   1167\u001b[0m \u001b[39mdef\u001b[39;00m \u001b[39m__enter__\u001b[39m(\u001b[39mself\u001b[39m) \u001b[39m-\u001b[39m\u001b[39m>\u001b[39m \u001b[39m\"\u001b[39m\u001b[39mProgress\u001b[39m\u001b[39m\"\u001b[39m:\n\u001b[1;32m-> 1168\u001b[0m     \u001b[39mself\u001b[39;49m\u001b[39m.\u001b[39;49mstart()\n\u001b[0;32m   1169\u001b[0m     \u001b[39mreturn\u001b[39;00m \u001b[39mself\u001b[39m\n",
      "File \u001b[1;32mc:\\ProgramData\\anaconda3\\lib\\site-packages\\rich\\progress.py:1159\u001b[0m, in \u001b[0;36mProgress.start\u001b[1;34m(self)\u001b[0m\n\u001b[0;32m   1157\u001b[0m \u001b[39m\u001b[39m\u001b[39m\"\"\"Start the progress display.\"\"\"\u001b[39;00m\n\u001b[0;32m   1158\u001b[0m \u001b[39mif\u001b[39;00m \u001b[39mnot\u001b[39;00m \u001b[39mself\u001b[39m\u001b[39m.\u001b[39mdisable:\n\u001b[1;32m-> 1159\u001b[0m     \u001b[39mself\u001b[39;49m\u001b[39m.\u001b[39;49mlive\u001b[39m.\u001b[39;49mstart(refresh\u001b[39m=\u001b[39;49m\u001b[39mTrue\u001b[39;49;00m)\n",
      "File \u001b[1;32mc:\\ProgramData\\anaconda3\\lib\\site-packages\\rich\\live.py:113\u001b[0m, in \u001b[0;36mLive.start\u001b[1;34m(self, refresh)\u001b[0m\n\u001b[0;32m    111\u001b[0m \u001b[39mif\u001b[39;00m \u001b[39mself\u001b[39m\u001b[39m.\u001b[39m_started:\n\u001b[0;32m    112\u001b[0m     \u001b[39mreturn\u001b[39;00m\n\u001b[1;32m--> 113\u001b[0m \u001b[39mself\u001b[39;49m\u001b[39m.\u001b[39;49mconsole\u001b[39m.\u001b[39;49mset_live(\u001b[39mself\u001b[39;49m)\n\u001b[0;32m    114\u001b[0m \u001b[39mself\u001b[39m\u001b[39m.\u001b[39m_started \u001b[39m=\u001b[39m \u001b[39mTrue\u001b[39;00m\n\u001b[0;32m    115\u001b[0m \u001b[39mif\u001b[39;00m \u001b[39mself\u001b[39m\u001b[39m.\u001b[39m_screen:\n",
      "File \u001b[1;32mc:\\ProgramData\\anaconda3\\lib\\site-packages\\rich\\console.py:835\u001b[0m, in \u001b[0;36mConsole.set_live\u001b[1;34m(self, live)\u001b[0m\n\u001b[0;32m    833\u001b[0m \u001b[39mwith\u001b[39;00m \u001b[39mself\u001b[39m\u001b[39m.\u001b[39m_lock:\n\u001b[0;32m    834\u001b[0m     \u001b[39mif\u001b[39;00m \u001b[39mself\u001b[39m\u001b[39m.\u001b[39m_live \u001b[39mis\u001b[39;00m \u001b[39mnot\u001b[39;00m \u001b[39mNone\u001b[39;00m:\n\u001b[1;32m--> 835\u001b[0m         \u001b[39mraise\u001b[39;00m errors\u001b[39m.\u001b[39mLiveError(\u001b[39m\"\u001b[39m\u001b[39mOnly one live display may be active at once\u001b[39m\u001b[39m\"\u001b[39m)\n\u001b[0;32m    836\u001b[0m     \u001b[39mself\u001b[39m\u001b[39m.\u001b[39m_live \u001b[39m=\u001b[39m live\n",
      "\u001b[1;31mLiveError\u001b[0m: Only one live display may be active at once"
     ]
    }
   ],
   "source": [
    "###---(oﾟvﾟ)ノ---###\n",
    "#Author Start\n",
    "# hint Date: 2023-10-13 10:01:26\n",
    "# hint LastEditors: Jupiter.Q.Peng\n",
    "# hint LastEditTime: 2023-10-15 23:20:23\n",
    "# hint Description: Version 1.0\n",
    "# hint FilePath: \\RotatE-SimTWD-Re-Rankd:\\AxMyWorkBench\\PythonProject\\SmallTools\\Rename_Tools\\rename_tools.ipynb\n",
    "# Author End\n",
    "import os, re, numpy, logging\n",
    "from rich.progress import track\n",
    "\n",
    "def RT_ContainStr(str, target_str):\n",
    "    pattern = r'\\s+|[_-]'\n",
    "    list_base = re.split(pattern, str.lower())\n",
    "    list_target = re.split(pattern, target_str.lower())\n",
    "    score = 0\n",
    "    for i in list_target:\n",
    "        if i in list_base:\n",
    "            score += 1\n",
    "    if score / len(list_base) > 7/9:\n",
    "        return True\n",
    "    else:\n",
    "        return False\n",
    "\n",
    "def RT_GetDirSize(dir):\n",
    "    size = 0\n",
    "    for root, dirs, files in os.walk(dir):\n",
    "        size += sum([os.path.getsize(os.path.join(root, name)) for name in files])\n",
    "    size = size / 1024 / 1024 / 1024\n",
    "    return size\n",
    "\n",
    "def RT_RenameFiles(path, rename_inject = \"\", controller = 0, logObject = None):\n",
    "    '''\n",
    "    :description: \n",
    "    :param path [*]\n",
    "    :param rename_inject [*]\n",
    "    :param contorller [int]\n",
    "        0. 不重命名相似文件\n",
    "        1: 重命名相似文件\n",
    "    :return [*]\n",
    "    '''\n",
    "    if logObject != None:\n",
    "        raise Exception(\"LogObject is None\")\n",
    "    else:\n",
    "        # HINT 读取文件夹下的文件名列表\n",
    "        filenameList = os.listdir(path)\n",
    "        for filename in filenameList:\n",
    "            # HINT 拼接文件路径，是当前的文件名\n",
    "            file_path_current = os.path.join(path, filename)\n",
    "            # HINT 判断是否是文件夹\n",
    "            if os.path.isdir(file_path_current):\n",
    "                # HINT 如果是文件夹，递归调用，将文件夹的名字作为参数传入\n",
    "                RT_RenameFiles(file_path_current, filename, controller)\n",
    "            else:\n",
    "                # HINT 判断是否是初始的调用，若运行，此时的inject是本级文件夹名字\n",
    "                if rename_inject != \"\":\n",
    "                    # HINT 新的文件名(基础)\n",
    "                    new_file_path = os.path.join(path, rename_inject)\n",
    "                    # HINT 扩展名\n",
    "                    if os.path.splitext(filename)[1] != \"\":\n",
    "                        file_extension = os.path.splitext(filename)[1]\n",
    "                    else:\n",
    "                        file_extension = \".png\"\n",
    "                    # HINT 判断是否包含重命名注入的分数阈值\n",
    "                    if RT_ContainStr(filename, rename_inject):\n",
    "                        if controller == 0:\n",
    "                            new_file_path = f\"{file_path_current}\"\n",
    "                        else:\n",
    "                            new_file_path = f\"{new_file_path}_File_{filenameList.index(filename):04d}{file_extension}\"\n",
    "                    elif RT_ContainStr(\"_cover\", filename) == True:\n",
    "                        new_file_path = f\"{new_file_path}_CoverS{file_extension}\"\n",
    "                    # HINT 若文件太几把长，直接重新命名\n",
    "                    elif len(filename) > 80:\n",
    "                        new_file_path = f\"{new_file_path}_File_{filenameList.index(filename):04d}{file_extension}\"\n",
    "                    else:\n",
    "                        new_file_path = f\"{new_file_path}_{filename}\"\n",
    "\n",
    "                    # HINT 判断新的文件名是否存在，不存在就重命名\n",
    "                    if controller != -1 and controller != None:\n",
    "                        if os.path.exists(new_file_path) == False and file_path_current != new_file_path:\n",
    "                            os.rename(file_path_current, new_file_path)\n",
    "                            print(f\"Rename: {file_path_current} -> {new_file_path}\")\n",
    "                        elif file_path_current == new_file_path:\n",
    "                            print(\"New File is the Same Name\")\n",
    "                        else:\n",
    "                            print(\"This File Is Exist\")\n",
    "                else:\n",
    "                    print(\"Rename_Inject OR Filename_Contain_Rename_Inject\")\n",
    "\n",
    "def RT_AddFileSizeEnd(basepath, rule = \"a\", logObject = None):\n",
    "    if logObject == None:\n",
    "        raise Exception(\"LogObject is None\")\n",
    "    else:\n",
    "        # HINT 基本变量\n",
    "        path_list = next(os.walk(basepath))[1]\n",
    "        dirSize = {}\n",
    "        # HINT 获取文件夹大小\n",
    "        for dir_name in path_list:\n",
    "            dirSize[dir_name] = f\"{RT_GetDirSize(os.path.join(basepath, dir_name)):.2f} GB\"\n",
    "        # HINT 重命名\n",
    "        for dir_name in path_list:\n",
    "            # HINT 原文件名\n",
    "            sourceFileNamePath = os.path.join(basepath, dir_name)\n",
    "            # HINT 修改规则\n",
    "            if rule == \"a\":\n",
    "                new_name = f\"{dir_name}-[{dirSize[dir_name]}]\"\n",
    "            if rule == \"m\" or \"M\":\n",
    "                # HINT Find Model Name\n",
    "                pattenModelNameKeyWord = r\"(@M.*?\\[.*?\\])\"\n",
    "                modelName = re.findall(pattenModelNameKeyWord, dir_name)\n",
    "                if len(modelName) == 0:\n",
    "                    print(f\"Error Name: {dir_name}\")\n",
    "                    modelName = None\n",
    "                elif len(modelName) == 1:\n",
    "                    modelName = modelName[0]\n",
    "                else:\n",
    "                    lenList = []\n",
    "                    [lenList.append(len(i)) for i in modelName]\n",
    "                    lenList = numpy.array(lenList)\n",
    "                    modelName = modelName[lenList.argmax()]\n",
    "                # HINT Find Commit\n",
    "                pattenCommitKeyWord = r\"\\](@.*)\"\n",
    "                commit = re.findall(pattenCommitKeyWord, dir_name)\n",
    "                # HINT 控制重命名的操作\n",
    "                if modelName != None:\n",
    "                    new_name = f\"{modelName}-[{dirSize[dir_name]}]{commit[0] if len(commit) != 0 else ''}\"\n",
    "                else:\n",
    "                    new_name = None\n",
    "\n",
    "            # HINT 控制重命名的操作\n",
    "            if new_name != None:\n",
    "                newFileNamePath = os.path.join(basepath, new_name)\n",
    "                os.rename(sourceFileNamePath, newFileNamePath)\n",
    "            if sourceFileNamePath != newFileNamePath:\n",
    "                print(f\"Rename: {dir_name} -> {new_name}\")\n",
    "            else:\n",
    "                print(f\"Same name {dir_name}\")\n",
    "\n",
    "# @ RUN\n",
    "path_1 = r\"E:\\@S\\@M\"\n",
    "base_path = path_1\n",
    "\n",
    "RT_RenameFiles(base_path, \"\", controller = -1)\n",
    "# RT_AddFileSizeEnd(base_path)\n"
   ]
  },
  {
   "cell_type": "code",
   "execution_count": 67,
   "metadata": {},
   "outputs": [
    {
     "name": "stdout",
     "output_type": "stream",
     "text": [
      "['@KKKKKKK@SSSSSSSSSS']\n",
      "@KKKKKKK@SSSSSSSSSS\n"
     ]
    }
   ],
   "source": [
    "import re, numpy\n",
    "\n",
    "text = '''Rename: @M[Vita 21312lievna ] -> @M[Vitalievna]-[1.27 GB]\n",
    "Rename: @M[Viva Fleur] -> @M[Viva Fleur]-[10.45 GB]@KKKKKKK@SSSSSSSSSS'''\n",
    "pattenModelNameKeyWord = r\"(@M.*?\\[.*?\\])\"\n",
    "pattenCommitKeyWord = r\"\\](@.*)\"\n",
    "\n",
    "modelName = re.findall(pattenCommitKeyWord, text)\n",
    "\n",
    "lenList = []\n",
    "[lenList.append(len(i)) for i in modelName]\n",
    "lenList = numpy.array(lenList)\n",
    "new_name = f\"{modelName[lenList.argmax()]}\"\n",
    "\n",
    "commit_content = \"\".join(modelName)\n",
    "\n",
    "print(modelName)\n",
    "print(commit_content)\n",
    "\n"
   ]
  }
 ],
 "metadata": {
  "kernelspec": {
   "display_name": "base",
   "language": "python",
   "name": "python3"
  },
  "language_info": {
   "codemirror_mode": {
    "name": "ipython",
    "version": 3
   },
   "file_extension": ".py",
   "mimetype": "text/x-python",
   "name": "python",
   "nbconvert_exporter": "python",
   "pygments_lexer": "ipython3",
   "version": "3.10.9"
  },
  "orig_nbformat": 4
 },
 "nbformat": 4,
 "nbformat_minor": 2
}
